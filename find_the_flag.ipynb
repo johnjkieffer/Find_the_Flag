{
 "cells": [
  {
   "cell_type": "markdown",
   "metadata": {},
   "source": [
    "# Find the Flag\n",
    "![Flags](flags.png)\n",
    "\n",
    "Flags have always been a source of fascination for me. Ever since I was in kindergarted and decided to recreate over 100 world and state flags with crayon on computer paper. My drawing was never very good (I put off Bhutan for as long as I could), but I loved the mostly geometric shapes with colors alluding to some national ideals. So I was very excited when [Codecademy](https://www.codecademy.com/learn) presented a flag-related machine learning project!\n",
    "\n",
    "In this project, we are provided with `flags.csv` which contians information on countries and their flags such as which colors and shapes they contain. Our objective is to build a decision tree to determine the continent from which a flag comes given its attributes. "
   ]
  },
  {
   "cell_type": "markdown",
   "metadata": {},
   "source": [
    "Let's start by taking a look at our data:"
   ]
  },
  {
   "cell_type": "code",
   "execution_count": 108,
   "metadata": {},
   "outputs": [
    {
     "data": {
      "text/html": [
       "<div>\n",
       "<style scoped>\n",
       "    .dataframe tbody tr th:only-of-type {\n",
       "        vertical-align: middle;\n",
       "    }\n",
       "\n",
       "    .dataframe tbody tr th {\n",
       "        vertical-align: top;\n",
       "    }\n",
       "\n",
       "    .dataframe thead th {\n",
       "        text-align: right;\n",
       "    }\n",
       "</style>\n",
       "<table border=\"1\" class=\"dataframe\">\n",
       "  <thead>\n",
       "    <tr style=\"text-align: right;\">\n",
       "      <th></th>\n",
       "      <th>Name</th>\n",
       "      <th>Landmass</th>\n",
       "      <th>Zone</th>\n",
       "      <th>Area</th>\n",
       "      <th>Population</th>\n",
       "      <th>Language</th>\n",
       "      <th>Religion</th>\n",
       "      <th>Bars</th>\n",
       "      <th>Stripes</th>\n",
       "      <th>Colors</th>\n",
       "      <th>...</th>\n",
       "      <th>Saltires</th>\n",
       "      <th>Quarters</th>\n",
       "      <th>Sunstars</th>\n",
       "      <th>Crescent</th>\n",
       "      <th>Triangle</th>\n",
       "      <th>Icon</th>\n",
       "      <th>Animate</th>\n",
       "      <th>Text</th>\n",
       "      <th>Topleft</th>\n",
       "      <th>Botright</th>\n",
       "    </tr>\n",
       "  </thead>\n",
       "  <tbody>\n",
       "    <tr>\n",
       "      <th>0</th>\n",
       "      <td>Afghanistan</td>\n",
       "      <td>5</td>\n",
       "      <td>1</td>\n",
       "      <td>648</td>\n",
       "      <td>16</td>\n",
       "      <td>10</td>\n",
       "      <td>2</td>\n",
       "      <td>0</td>\n",
       "      <td>3</td>\n",
       "      <td>5</td>\n",
       "      <td>...</td>\n",
       "      <td>0</td>\n",
       "      <td>0</td>\n",
       "      <td>1</td>\n",
       "      <td>0</td>\n",
       "      <td>0</td>\n",
       "      <td>1</td>\n",
       "      <td>0</td>\n",
       "      <td>0</td>\n",
       "      <td>black</td>\n",
       "      <td>green</td>\n",
       "    </tr>\n",
       "    <tr>\n",
       "      <th>1</th>\n",
       "      <td>Albania</td>\n",
       "      <td>3</td>\n",
       "      <td>1</td>\n",
       "      <td>29</td>\n",
       "      <td>3</td>\n",
       "      <td>6</td>\n",
       "      <td>6</td>\n",
       "      <td>0</td>\n",
       "      <td>0</td>\n",
       "      <td>3</td>\n",
       "      <td>...</td>\n",
       "      <td>0</td>\n",
       "      <td>0</td>\n",
       "      <td>1</td>\n",
       "      <td>0</td>\n",
       "      <td>0</td>\n",
       "      <td>0</td>\n",
       "      <td>1</td>\n",
       "      <td>0</td>\n",
       "      <td>red</td>\n",
       "      <td>red</td>\n",
       "    </tr>\n",
       "    <tr>\n",
       "      <th>2</th>\n",
       "      <td>Algeria</td>\n",
       "      <td>4</td>\n",
       "      <td>1</td>\n",
       "      <td>2388</td>\n",
       "      <td>20</td>\n",
       "      <td>8</td>\n",
       "      <td>2</td>\n",
       "      <td>2</td>\n",
       "      <td>0</td>\n",
       "      <td>3</td>\n",
       "      <td>...</td>\n",
       "      <td>0</td>\n",
       "      <td>0</td>\n",
       "      <td>1</td>\n",
       "      <td>1</td>\n",
       "      <td>0</td>\n",
       "      <td>0</td>\n",
       "      <td>0</td>\n",
       "      <td>0</td>\n",
       "      <td>green</td>\n",
       "      <td>white</td>\n",
       "    </tr>\n",
       "    <tr>\n",
       "      <th>3</th>\n",
       "      <td>American-Samoa</td>\n",
       "      <td>6</td>\n",
       "      <td>3</td>\n",
       "      <td>0</td>\n",
       "      <td>0</td>\n",
       "      <td>1</td>\n",
       "      <td>1</td>\n",
       "      <td>0</td>\n",
       "      <td>0</td>\n",
       "      <td>5</td>\n",
       "      <td>...</td>\n",
       "      <td>0</td>\n",
       "      <td>0</td>\n",
       "      <td>0</td>\n",
       "      <td>0</td>\n",
       "      <td>1</td>\n",
       "      <td>1</td>\n",
       "      <td>1</td>\n",
       "      <td>0</td>\n",
       "      <td>blue</td>\n",
       "      <td>red</td>\n",
       "    </tr>\n",
       "    <tr>\n",
       "      <th>4</th>\n",
       "      <td>Andorra</td>\n",
       "      <td>3</td>\n",
       "      <td>1</td>\n",
       "      <td>0</td>\n",
       "      <td>0</td>\n",
       "      <td>6</td>\n",
       "      <td>0</td>\n",
       "      <td>3</td>\n",
       "      <td>0</td>\n",
       "      <td>3</td>\n",
       "      <td>...</td>\n",
       "      <td>0</td>\n",
       "      <td>0</td>\n",
       "      <td>0</td>\n",
       "      <td>0</td>\n",
       "      <td>0</td>\n",
       "      <td>0</td>\n",
       "      <td>0</td>\n",
       "      <td>0</td>\n",
       "      <td>blue</td>\n",
       "      <td>red</td>\n",
       "    </tr>\n",
       "    <tr>\n",
       "      <th>...</th>\n",
       "      <td>...</td>\n",
       "      <td>...</td>\n",
       "      <td>...</td>\n",
       "      <td>...</td>\n",
       "      <td>...</td>\n",
       "      <td>...</td>\n",
       "      <td>...</td>\n",
       "      <td>...</td>\n",
       "      <td>...</td>\n",
       "      <td>...</td>\n",
       "      <td>...</td>\n",
       "      <td>...</td>\n",
       "      <td>...</td>\n",
       "      <td>...</td>\n",
       "      <td>...</td>\n",
       "      <td>...</td>\n",
       "      <td>...</td>\n",
       "      <td>...</td>\n",
       "      <td>...</td>\n",
       "      <td>...</td>\n",
       "      <td>...</td>\n",
       "    </tr>\n",
       "    <tr>\n",
       "      <th>189</th>\n",
       "      <td>Western-Samoa</td>\n",
       "      <td>6</td>\n",
       "      <td>3</td>\n",
       "      <td>3</td>\n",
       "      <td>0</td>\n",
       "      <td>1</td>\n",
       "      <td>1</td>\n",
       "      <td>0</td>\n",
       "      <td>0</td>\n",
       "      <td>3</td>\n",
       "      <td>...</td>\n",
       "      <td>0</td>\n",
       "      <td>1</td>\n",
       "      <td>5</td>\n",
       "      <td>0</td>\n",
       "      <td>0</td>\n",
       "      <td>0</td>\n",
       "      <td>0</td>\n",
       "      <td>0</td>\n",
       "      <td>blue</td>\n",
       "      <td>red</td>\n",
       "    </tr>\n",
       "    <tr>\n",
       "      <th>190</th>\n",
       "      <td>Yugoslavia</td>\n",
       "      <td>3</td>\n",
       "      <td>1</td>\n",
       "      <td>256</td>\n",
       "      <td>22</td>\n",
       "      <td>6</td>\n",
       "      <td>6</td>\n",
       "      <td>0</td>\n",
       "      <td>3</td>\n",
       "      <td>4</td>\n",
       "      <td>...</td>\n",
       "      <td>0</td>\n",
       "      <td>0</td>\n",
       "      <td>1</td>\n",
       "      <td>0</td>\n",
       "      <td>0</td>\n",
       "      <td>0</td>\n",
       "      <td>0</td>\n",
       "      <td>0</td>\n",
       "      <td>blue</td>\n",
       "      <td>red</td>\n",
       "    </tr>\n",
       "    <tr>\n",
       "      <th>191</th>\n",
       "      <td>Zaire</td>\n",
       "      <td>4</td>\n",
       "      <td>2</td>\n",
       "      <td>905</td>\n",
       "      <td>28</td>\n",
       "      <td>10</td>\n",
       "      <td>5</td>\n",
       "      <td>0</td>\n",
       "      <td>0</td>\n",
       "      <td>4</td>\n",
       "      <td>...</td>\n",
       "      <td>0</td>\n",
       "      <td>0</td>\n",
       "      <td>0</td>\n",
       "      <td>0</td>\n",
       "      <td>0</td>\n",
       "      <td>1</td>\n",
       "      <td>1</td>\n",
       "      <td>0</td>\n",
       "      <td>green</td>\n",
       "      <td>green</td>\n",
       "    </tr>\n",
       "    <tr>\n",
       "      <th>192</th>\n",
       "      <td>Zambia</td>\n",
       "      <td>4</td>\n",
       "      <td>2</td>\n",
       "      <td>753</td>\n",
       "      <td>6</td>\n",
       "      <td>10</td>\n",
       "      <td>5</td>\n",
       "      <td>3</td>\n",
       "      <td>0</td>\n",
       "      <td>4</td>\n",
       "      <td>...</td>\n",
       "      <td>0</td>\n",
       "      <td>0</td>\n",
       "      <td>0</td>\n",
       "      <td>0</td>\n",
       "      <td>0</td>\n",
       "      <td>0</td>\n",
       "      <td>1</td>\n",
       "      <td>0</td>\n",
       "      <td>green</td>\n",
       "      <td>brown</td>\n",
       "    </tr>\n",
       "    <tr>\n",
       "      <th>193</th>\n",
       "      <td>Zimbabwe</td>\n",
       "      <td>4</td>\n",
       "      <td>2</td>\n",
       "      <td>391</td>\n",
       "      <td>8</td>\n",
       "      <td>10</td>\n",
       "      <td>5</td>\n",
       "      <td>0</td>\n",
       "      <td>7</td>\n",
       "      <td>5</td>\n",
       "      <td>...</td>\n",
       "      <td>0</td>\n",
       "      <td>0</td>\n",
       "      <td>1</td>\n",
       "      <td>0</td>\n",
       "      <td>1</td>\n",
       "      <td>1</td>\n",
       "      <td>1</td>\n",
       "      <td>0</td>\n",
       "      <td>green</td>\n",
       "      <td>green</td>\n",
       "    </tr>\n",
       "  </tbody>\n",
       "</table>\n",
       "<p>194 rows × 30 columns</p>\n",
       "</div>"
      ],
      "text/plain": [
       "               Name  Landmass  Zone  Area  Population  Language  Religion  \\\n",
       "0       Afghanistan         5     1   648          16        10         2   \n",
       "1           Albania         3     1    29           3         6         6   \n",
       "2           Algeria         4     1  2388          20         8         2   \n",
       "3    American-Samoa         6     3     0           0         1         1   \n",
       "4           Andorra         3     1     0           0         6         0   \n",
       "..              ...       ...   ...   ...         ...       ...       ...   \n",
       "189   Western-Samoa         6     3     3           0         1         1   \n",
       "190      Yugoslavia         3     1   256          22         6         6   \n",
       "191           Zaire         4     2   905          28        10         5   \n",
       "192          Zambia         4     2   753           6        10         5   \n",
       "193        Zimbabwe         4     2   391           8        10         5   \n",
       "\n",
       "     Bars  Stripes  Colors  ...  Saltires  Quarters  Sunstars  Crescent  \\\n",
       "0       0        3       5  ...         0         0         1         0   \n",
       "1       0        0       3  ...         0         0         1         0   \n",
       "2       2        0       3  ...         0         0         1         1   \n",
       "3       0        0       5  ...         0         0         0         0   \n",
       "4       3        0       3  ...         0         0         0         0   \n",
       "..    ...      ...     ...  ...       ...       ...       ...       ...   \n",
       "189     0        0       3  ...         0         1         5         0   \n",
       "190     0        3       4  ...         0         0         1         0   \n",
       "191     0        0       4  ...         0         0         0         0   \n",
       "192     3        0       4  ...         0         0         0         0   \n",
       "193     0        7       5  ...         0         0         1         0   \n",
       "\n",
       "     Triangle  Icon  Animate Text  Topleft  Botright  \n",
       "0           0     1        0    0    black     green  \n",
       "1           0     0        1    0      red       red  \n",
       "2           0     0        0    0    green     white  \n",
       "3           1     1        1    0     blue       red  \n",
       "4           0     0        0    0     blue       red  \n",
       "..        ...   ...      ...  ...      ...       ...  \n",
       "189         0     0        0    0     blue       red  \n",
       "190         0     0        0    0     blue       red  \n",
       "191         0     1        1    0    green     green  \n",
       "192         0     0        1    0    green     brown  \n",
       "193         1     1        1    0    green     green  \n",
       "\n",
       "[194 rows x 30 columns]"
      ]
     },
     "execution_count": 108,
     "metadata": {},
     "output_type": "execute_result"
    }
   ],
   "source": [
    "import pandas as pd\n",
    "\n",
    "flags = pd.read_csv('flags.csv')\n",
    "flags"
   ]
  },
  {
   "cell_type": "code",
   "execution_count": 109,
   "metadata": {},
   "outputs": [
    {
     "name": "stdout",
     "output_type": "stream",
     "text": [
      "Name\n",
      "Landmass\n",
      "Zone\n",
      "Area\n",
      "Population\n",
      "Language\n",
      "Religion\n",
      "Bars\n",
      "Stripes\n",
      "Colors\n",
      "Red\n",
      "Green\n",
      "Blue\n",
      "Gold\n",
      "White\n",
      "Black\n",
      "Orange\n",
      "Mainhue\n",
      "Circles\n",
      "Crosses\n",
      "Saltires\n",
      "Quarters\n",
      "Sunstars\n",
      "Crescent\n",
      "Triangle\n",
      "Icon\n",
      "Animate\n",
      "Text\n",
      "Topleft\n",
      "Botright\n"
     ]
    }
   ],
   "source": [
    "for col in flags.columns:\n",
    "    print(col)"
   ]
  },
  {
   "cell_type": "markdown",
   "metadata": {},
   "source": [
    "We see that we are provided a dataset of 194 nations with national attributes such as `Landmass`, `Area`, and `Population` and attributes of their flag such as how many `Colors` and `Stripes` it contains, whether one of those colors is `Blue`, `Black`, etc. and if it includes features such as a `Crescent` or a `Triangle`. \n",
    "\n",
    "To understand what the data represents in some of these columns (what does a `Language` of \"10\" mean, for instance) we will need to consult the documentation for this dataset from the [UCI Machine Learning Repository](http://archive.ics.uci.edu/ml/datasets/Flags):"
   ]
  },
  {
   "cell_type": "markdown",
   "metadata": {},
   "source": [
    "Attribute Information:\n",
    "\n",
    "1. name: Name of the country concerned\n",
    "2. landmass: 1=N.America, 2=S.America, 3=Europe, 4=Africa, 5=Asia, 6=Oceania\n",
    "3. zone: Geographic quadrant, based on Greenwich and the Equator; 1=NE, 2=SE, 3=SW, 4=NW\n",
    "4. area: in thousands of square km\n",
    "5. population: in round millions\n",
    "6. language: 1=English, 2=Spanish, 3=French, 4=German, 5=Slavic, 6=Other Indo-European, 7=Chinese, 8=Arabic, 9=Japanese/Turkish/Finnish/Magyar, 10=Others\n",
    "7. religion: 0=Catholic, 1=Other Christian, 2=Muslim, 3=Buddhist, 4=Hindu, 5=Ethnic, 6=Marxist, 7=Others\n",
    "8. bars: Number of vertical bars in the flag\n",
    "9. stripes: Number of horizontal stripes in the flag\n",
    "10. colours: Number of different colours in the flag\n",
    "11. red: 0 if red absent, 1 if red present in the flag\n",
    "12. green: same for green\n",
    "13. blue: same for blue\n",
    "14. gold: same for gold (also yellow)\n",
    "15. white: same for white\n",
    "16. black: same for black\n",
    "17. orange: same for orange (also brown)\n",
    "18. mainhue: predominant colour in the flag (tie-breaks decided by taking the topmost hue, if that fails then the most central hue, and if that fails the leftmost hue)\n",
    "19. circles: Number of circles in the flag\n",
    "20. crosses: Number of (upright) crosses\n",
    "21. saltires: Number of diagonal crosses\n",
    "22. quarters: Number of quartered sections\n",
    "23. sunstars: Number of sun or star symbols\n",
    "24. crescent: 1 if a crescent moon symbol present, else 0\n",
    "25. triangle: 1 if any triangles present, 0 otherwise\n",
    "26. icon: 1 if an inanimate image present (e.g., a boat), otherwise 0\n",
    "27. animate: 1 if an animate image (e.g., an eagle, a tree, a human hand) present, 0 otherwise\n",
    "28. text: 1 if any letters or writing on the flag (e.g., a motto or slogan), 0 otherwise\n",
    "29. topleft: colour in the top-left corner (moving right to decide tie-breaks)\n",
    "30. botright: Colour in the bottom-left corner (moving left to decide tie-breaks)"
   ]
  },
  {
   "cell_type": "markdown",
   "metadata": {},
   "source": [
    "Using this key, we can understand that Afghanistan, for example, is in Asia, is 648 sq km, has approximately 16 million people and is predominatly Muslim."
   ]
  },
  {
   "cell_type": "markdown",
   "metadata": {},
   "source": [
    "Since the objective of this project is to predict the continent on which a country resides, we will convert the `Landmass` column of the dataset to our `labels`."
   ]
  },
  {
   "cell_type": "code",
   "execution_count": 110,
   "metadata": {},
   "outputs": [],
   "source": [
    "labels = flags[[\"Landmass\"]]"
   ]
  },
  {
   "cell_type": "markdown",
   "metadata": {},
   "source": [
    "Now we will choose which columns will serve as our features used to predict the label. Let's first try using only the colors of the flag."
   ]
  },
  {
   "cell_type": "code",
   "execution_count": 111,
   "metadata": {},
   "outputs": [],
   "source": [
    "features = flags[[\"Red\", \"Green\", \"Blue\", \"Gold\", \"White\", \"Black\", \"Orange\"]]"
   ]
  },
  {
   "cell_type": "markdown",
   "metadata": {},
   "source": [
    "Now that we have our features and labels, we need to split our dataset into training and testing sets."
   ]
  },
  {
   "cell_type": "code",
   "execution_count": 112,
   "metadata": {},
   "outputs": [],
   "source": [
    "from sklearn.model_selection import train_test_split\n",
    "\n",
    "train_data, test_data, train_labels, test_labels = train_test_split(features, labels, test_size = 0.3, random_state = 42)"
   ]
  },
  {
   "cell_type": "markdown",
   "metadata": {},
   "source": [
    "Now it's time to create our classification model! We will be using a decision tree to do this."
   ]
  },
  {
   "cell_type": "code",
   "execution_count": 113,
   "metadata": {},
   "outputs": [
    {
     "data": {
      "text/plain": [
       "DecisionTreeClassifier(random_state=1)"
      ]
     },
     "execution_count": 113,
     "metadata": {},
     "output_type": "execute_result"
    }
   ],
   "source": [
    "from sklearn.tree import DecisionTreeClassifier\n",
    "\n",
    "tree = DecisionTreeClassifier(random_state = 1)\n",
    "tree.fit(train_data, train_labels)"
   ]
  },
  {
   "cell_type": "markdown",
   "metadata": {},
   "source": [
    "Now to see how well this model performs on our set-aside test data."
   ]
  },
  {
   "cell_type": "code",
   "execution_count": 114,
   "metadata": {},
   "outputs": [
    {
     "name": "stdout",
     "output_type": "stream",
     "text": [
      "The accuracy of the model is: 37.29%\n"
     ]
    }
   ],
   "source": [
    "score = tree.score(test_data, test_labels)\n",
    "print(f\"The accuracy of the model is: {score:.2%}\")"
   ]
  },
  {
   "cell_type": "markdown",
   "metadata": {},
   "source": [
    "With 6 possible landmasses, a random guess would yield an accuracy of 1/6, or 16.67%. So clearly this model beats a random guess, but it isn't great. Two ways we could try to improve our model are to add features or tune the model. Before adding more features, let's see if we can be a bit more accurate with the colors alone.\n",
    "\n",
    "With a decision tree, we can tune our model by adjusting the maximum depth parameter. This limits the number of times the tree can branch, thereby reducing its ability to over-fit on the training data. We will try a range of `max_depth` values and plot the accuracy for each to help us decide on an optimal parameter value."
   ]
  },
  {
   "cell_type": "code",
   "execution_count": 115,
   "metadata": {},
   "outputs": [
    {
     "data": {
      "image/png": "[encoded data removed]",
      "text/plain": [
       "<Figure size 432x288 with 1 Axes>"
      ]
     },
     "metadata": {
      "needs_background": "light"
     },
     "output_type": "display_data"
    }
   ],
   "source": [
    "import matplotlib.pyplot as plt\n",
    "import seaborn as sns\n",
    "\n",
    "scores = []\n",
    "depth = []\n",
    "for i in range(1,21):\n",
    "    tree = DecisionTreeClassifier(random_state = 42, max_depth = i)\n",
    "    tree.fit(train_data, train_labels)\n",
    "    score = tree.score(test_data, test_labels)\n",
    "    scores.append(score)\n",
    "    depth.append(i)\n",
    "\n",
    "ax = sns.lineplot(x=depth, y=scores)\n",
    "ax.set(title=\"Decision Tree Accuracy \\nwith Color Features\", ylabel=\"Accuracy\", xlabel=\"max_depth\")\n",
    "plt.show()\n"
   ]
  },
  {
   "cell_type": "markdown",
   "metadata": {},
   "source": [
    "Seeing as the max_depth doesn't really seem to have a large impact on accuracy, this may be an indication that our model would improve with more features. \n",
    "\n",
    "Let's now add all of the features in the dataset that have to do with the nation's flag. Then we can repeat the above process to see how our model now performs."
   ]
  },
  {
   "cell_type": "markdown",
   "metadata": {},
   "source": [
    "You will notice that some of the flag-related features are not number. For example, `\"Mainhue\"`, which is the predominant color in the flag is a string, \"green\" or \"blue\", for example. Similarly with `\"Topleft\"` and `\"Botright\"`.\n",
    "\n",
    "These categorical columns don't work well in a decision tree context. The decision tree branches based on whether a value is greater are lesser than some threshold. For example, take the left branch if the third index is less than 5.0, and the right branch otherwise. This clearly won't handle colors colors well. Is green less than or greater than yellow?\n",
    "\n",
    "To accomadate this categorical data we can convert it into a \"one-hot\" encoding scheme. Let's say we have 4 unique values for the columns: blue, red, green, and yellow. We can break this up into 4 separate columns with the first containing a 1 if it is blue, and zero otherwise. The second column will have a 1 if it is red, zero otherwise, and so on.\n",
    "\n",
    "We can first look at how many unique values are in each of our columns of interest, and what they are."
   ]
  },
  {
   "cell_type": "code",
   "execution_count": 116,
   "metadata": {},
   "outputs": [
    {
     "name": "stdout",
     "output_type": "stream",
     "text": [
      "The 'Mainhue' column has 8 unique values. They are: \n",
      "['green' 'red' 'blue' 'gold' 'white' 'orange' 'black' 'brown']\n",
      "\n",
      "The 'Topleft' column has 7 unique values. They are: \n",
      "['black' 'red' 'green' 'blue' 'white' 'orange' 'gold']\n",
      "\n",
      "The 'Botright' column has 8 unique values. They are: \n",
      "['green' 'red' 'white' 'black' 'blue' 'gold' 'orange' 'brown']\n"
     ]
    }
   ],
   "source": [
    "mainhue_values = flags[\"Mainhue\"].unique()\n",
    "topleft_values = flags[\"Topleft\"].unique()\n",
    "botright_values = flags[\"Botright\"].unique()\n",
    "\n",
    "num_mainhue_values = len(mainhue_values)\n",
    "num_topleft_values = len(topleft_values)\n",
    "num_botright_values = len(botright_values)\n",
    "\n",
    "print(f\"The 'Mainhue' column has {num_mainhue_values} unique values. They are: \\n{mainhue_values}\\n\")\n",
    "print(f\"The 'Topleft' column has {num_topleft_values} unique values. They are: \\n{topleft_values}\\n\")\n",
    "print(f\"The 'Botright' column has {num_botright_values} unique values. They are: \\n{botright_values}\")\n",
    "\n"
   ]
  },
  {
   "cell_type": "markdown",
   "metadata": {},
   "source": [
    "To convert these columns to one-hot encoding, we can use the `get_dummies()` pandas function."
   ]
  },
  {
   "cell_type": "code",
   "execution_count": 117,
   "metadata": {},
   "outputs": [
    {
     "data": {
      "text/html": [
       "<div>\n",
       "<style scoped>\n",
       "    .dataframe tbody tr th:only-of-type {\n",
       "        vertical-align: middle;\n",
       "    }\n",
       "\n",
       "    .dataframe tbody tr th {\n",
       "        vertical-align: top;\n",
       "    }\n",
       "\n",
       "    .dataframe thead th {\n",
       "        text-align: right;\n",
       "    }\n",
       "</style>\n",
       "<table border=\"1\" class=\"dataframe\">\n",
       "  <thead>\n",
       "    <tr style=\"text-align: right;\">\n",
       "      <th></th>\n",
       "      <th>Mainhue_black</th>\n",
       "      <th>Mainhue_blue</th>\n",
       "      <th>Mainhue_brown</th>\n",
       "      <th>Mainhue_gold</th>\n",
       "      <th>Mainhue_green</th>\n",
       "      <th>Mainhue_orange</th>\n",
       "      <th>Mainhue_red</th>\n",
       "      <th>Mainhue_white</th>\n",
       "    </tr>\n",
       "  </thead>\n",
       "  <tbody>\n",
       "    <tr>\n",
       "      <th>0</th>\n",
       "      <td>0</td>\n",
       "      <td>0</td>\n",
       "      <td>0</td>\n",
       "      <td>0</td>\n",
       "      <td>1</td>\n",
       "      <td>0</td>\n",
       "      <td>0</td>\n",
       "      <td>0</td>\n",
       "    </tr>\n",
       "    <tr>\n",
       "      <th>1</th>\n",
       "      <td>0</td>\n",
       "      <td>0</td>\n",
       "      <td>0</td>\n",
       "      <td>0</td>\n",
       "      <td>0</td>\n",
       "      <td>0</td>\n",
       "      <td>1</td>\n",
       "      <td>0</td>\n",
       "    </tr>\n",
       "    <tr>\n",
       "      <th>2</th>\n",
       "      <td>0</td>\n",
       "      <td>0</td>\n",
       "      <td>0</td>\n",
       "      <td>0</td>\n",
       "      <td>1</td>\n",
       "      <td>0</td>\n",
       "      <td>0</td>\n",
       "      <td>0</td>\n",
       "    </tr>\n",
       "    <tr>\n",
       "      <th>3</th>\n",
       "      <td>0</td>\n",
       "      <td>1</td>\n",
       "      <td>0</td>\n",
       "      <td>0</td>\n",
       "      <td>0</td>\n",
       "      <td>0</td>\n",
       "      <td>0</td>\n",
       "      <td>0</td>\n",
       "    </tr>\n",
       "    <tr>\n",
       "      <th>4</th>\n",
       "      <td>0</td>\n",
       "      <td>0</td>\n",
       "      <td>0</td>\n",
       "      <td>1</td>\n",
       "      <td>0</td>\n",
       "      <td>0</td>\n",
       "      <td>0</td>\n",
       "      <td>0</td>\n",
       "    </tr>\n",
       "    <tr>\n",
       "      <th>...</th>\n",
       "      <td>...</td>\n",
       "      <td>...</td>\n",
       "      <td>...</td>\n",
       "      <td>...</td>\n",
       "      <td>...</td>\n",
       "      <td>...</td>\n",
       "      <td>...</td>\n",
       "      <td>...</td>\n",
       "    </tr>\n",
       "    <tr>\n",
       "      <th>189</th>\n",
       "      <td>0</td>\n",
       "      <td>0</td>\n",
       "      <td>0</td>\n",
       "      <td>0</td>\n",
       "      <td>0</td>\n",
       "      <td>0</td>\n",
       "      <td>1</td>\n",
       "      <td>0</td>\n",
       "    </tr>\n",
       "    <tr>\n",
       "      <th>190</th>\n",
       "      <td>0</td>\n",
       "      <td>0</td>\n",
       "      <td>0</td>\n",
       "      <td>0</td>\n",
       "      <td>0</td>\n",
       "      <td>0</td>\n",
       "      <td>1</td>\n",
       "      <td>0</td>\n",
       "    </tr>\n",
       "    <tr>\n",
       "      <th>191</th>\n",
       "      <td>0</td>\n",
       "      <td>0</td>\n",
       "      <td>0</td>\n",
       "      <td>0</td>\n",
       "      <td>1</td>\n",
       "      <td>0</td>\n",
       "      <td>0</td>\n",
       "      <td>0</td>\n",
       "    </tr>\n",
       "    <tr>\n",
       "      <th>192</th>\n",
       "      <td>0</td>\n",
       "      <td>0</td>\n",
       "      <td>0</td>\n",
       "      <td>0</td>\n",
       "      <td>1</td>\n",
       "      <td>0</td>\n",
       "      <td>0</td>\n",
       "      <td>0</td>\n",
       "    </tr>\n",
       "    <tr>\n",
       "      <th>193</th>\n",
       "      <td>0</td>\n",
       "      <td>0</td>\n",
       "      <td>0</td>\n",
       "      <td>0</td>\n",
       "      <td>1</td>\n",
       "      <td>0</td>\n",
       "      <td>0</td>\n",
       "      <td>0</td>\n",
       "    </tr>\n",
       "  </tbody>\n",
       "</table>\n",
       "<p>194 rows × 8 columns</p>\n",
       "</div>"
      ],
      "text/plain": [
       "     Mainhue_black  Mainhue_blue  Mainhue_brown  Mainhue_gold  Mainhue_green  \\\n",
       "0                0             0              0             0              1   \n",
       "1                0             0              0             0              0   \n",
       "2                0             0              0             0              1   \n",
       "3                0             1              0             0              0   \n",
       "4                0             0              0             1              0   \n",
       "..             ...           ...            ...           ...            ...   \n",
       "189              0             0              0             0              0   \n",
       "190              0             0              0             0              0   \n",
       "191              0             0              0             0              1   \n",
       "192              0             0              0             0              1   \n",
       "193              0             0              0             0              1   \n",
       "\n",
       "     Mainhue_orange  Mainhue_red  Mainhue_white  \n",
       "0                 0            0              0  \n",
       "1                 0            1              0  \n",
       "2                 0            0              0  \n",
       "3                 0            0              0  \n",
       "4                 0            0              0  \n",
       "..              ...          ...            ...  \n",
       "189               0            1              0  \n",
       "190               0            1              0  \n",
       "191               0            0              0  \n",
       "192               0            0              0  \n",
       "193               0            0              0  \n",
       "\n",
       "[194 rows x 8 columns]"
      ]
     },
     "execution_count": 117,
     "metadata": {},
     "output_type": "execute_result"
    }
   ],
   "source": [
    "mainhue = pd.get_dummies(flags[\"Mainhue\"], prefix=\"Mainhue\")\n",
    "mainhue"
   ]
  },
  {
   "cell_type": "markdown",
   "metadata": {},
   "source": [
    "We can see how each row only has a single `1` in it (hence, the \"one-hot\" name). We will do the same thing for `Topleft` and `Botright` and then concatenate them with a newly assigned `features` variable which includes all of the already-numeric flag-realated columns."
   ]
  },
  {
   "cell_type": "code",
   "execution_count": 118,
   "metadata": {},
   "outputs": [],
   "source": [
    "topleft = pd.get_dummies(flags[\"Topleft\"], prefix=\"Topleft\")\n",
    "botright = pd.get_dummies(flags[\"Botright\"], prefix=\"Botright\")\n",
    "features = flags[[\"Bars\", \"Stripes\", \"Colors\", \"Red\", \"Green\", \"Blue\", \"Gold\", \"White\", \"Black\", \"Orange\", \"Circles\", \"Crosses\", \"Saltires\", \"Quarters\", \"Sunstars\", \"Crescent\", \"Triangle\", \"Icon\", \"Animate\", \"Text\"]]\n",
    "features = pd.concat([features, topleft, botright], axis=1)\n"
   ]
  },
  {
   "cell_type": "markdown",
   "metadata": {},
   "source": [
    "Now we can go through the same process as before of splitting the features and labels into training and testing sets, create a model, train it, and visualize its accuracy on the test set as we adjust parameters."
   ]
  },
  {
   "cell_type": "code",
   "execution_count": 122,
   "metadata": {},
   "outputs": [
    {
     "data": {
      "image/png": "[encoded data removed]",
      "text/plain": [
       "<Figure size 432x288 with 1 Axes>"
      ]
     },
     "metadata": {
      "needs_background": "light"
     },
     "output_type": "display_data"
    }
   ],
   "source": [
    "train_data, test_data, train_labels, test_labels = train_test_split(features, labels, test_size = 0.3, random_state = 42)\n",
    "\n",
    "scores = []\n",
    "depth = []\n",
    "for i in range(1,21):\n",
    "    tree = DecisionTreeClassifier(random_state = 42, max_depth = i)\n",
    "    tree.fit(train_data, train_labels)\n",
    "    score = tree.score(test_data, test_labels)\n",
    "    scores.append(score)\n",
    "    depth.append(i)\n",
    "\n",
    "ax = sns.lineplot(x=depth, y=scores)\n",
    "ax.set(title=\"Decision Tree Accuracy \\nWith All Flag Features \", ylabel=\"Accuracy\", xlabel=\"max_depth\")\n",
    "plt.show()"
   ]
  },
  {
   "cell_type": "markdown",
   "metadata": {},
   "source": [
    "Here we do see improved performance. Previously the greatest accuracy was about 40%, whereas now with the new features incorporated we see an accuracy of almost 50% with a maximum tree depth restricted to 2. Apparently knowing what shapes and predominant colors are on a flag can really help tell you about where it comes from! Furthermore, we see a rather characteristic shape in this graph. We see that for very shallow trees, the model underfits the test set resulting in relatively low accuracy. Then the model accuracy increased to a peak, after which it declines again as the model starts to overfit on the training set, and not gernalize well to the testing set."
   ]
  },
  {
   "cell_type": "markdown",
   "metadata": {},
   "source": [
    "There are other parameters we can adjust in the decision tree as well as `max_depth`. Another common parameter to adjust is `max_leaf_nodes`. I will demonstrate adjusting these parameters in tandem and using a scatterplot with a colorbar to visualize how well the model performs under different settings."
   ]
  },
  {
   "cell_type": "code",
   "execution_count": 146,
   "metadata": {},
   "outputs": [
    {
     "data": {
      "image/png": "[encoded data removed]",
      "text/plain": [
       "<Figure size 720x720 with 2 Axes>"
      ]
     },
     "metadata": {
      "needs_background": "light"
     },
     "output_type": "display_data"
    }
   ],
   "source": [
    "scores = []\n",
    "depth = []\n",
    "nodes = []\n",
    "for i in range(2,50):\n",
    "    for j in range(1,20):\n",
    "        tree = DecisionTreeClassifier(random_state = 42, max_leaf_nodes = i, max_depth = j)\n",
    "        tree.fit(train_data, train_labels)\n",
    "        score = tree.score(test_data, test_labels)\n",
    "        scores.append(score)\n",
    "        nodes.append(i)\n",
    "        depth.append(j)\n",
    "plt.figure(figsize = (10,10))\n",
    "ax = sns.scatterplot(x=depth, y=nodes, hue=scores, palette='RdBu')\n",
    "norm = plt.Normalize(min(scores), max(scores))\n",
    "sm = plt.cm.ScalarMappable(cmap='RdBu', norm=norm)\n",
    "sm.set_array([])\n",
    "ax.get_legend().remove()\n",
    "ax.figure.colorbar(sm)\n",
    "ax.set(title=\"Decision Tree Accuracy \\nWith All Flag Features \", ylabel=\"Max Leaf Nodes\", xlabel=\"Max Depth\")\n",
    "plt.show()"
   ]
  },
  {
   "cell_type": "markdown",
   "metadata": {},
   "source": [
    "It appears that a model with low `max_depth` or low `max_leaf_nodes` value always performs well on the test set (at about 46% to 49% accuracy).\n",
    "\n",
    "Other parameters could be adjusted as well to further tune the model. Parameter tuning can be part art and part science as you investigate how they affect the model performance when adjusted individually, or in conjunction with others.\n",
    "\n",
    "A point I skipped over in this is the practice of using a third split of the data with a \"validataion set\". As parameters are adjusted (sometimes called \"hyperparameters\" to distinguish them from the parameters __within__ the model) the model should be trained using only the training set, then run on the validataion set to check accuracy, while still setting the testing set aside. Only once a final set of hyperparameters has been chosen should the model be trained using **both** the training and validataion set, and then finally tested on the testing set. \n",
    "The reason for holding out the testing set until the very end is that if you are constantly checking the model against the test set, you may select a set of hyperparameters that just happens to work well for your currently designed testing set, but wouldn't generalize well to other data. The ability to generalize well to yet-unseen data is a requirement of a good machine learning model."
   ]
  },
  {
   "cell_type": "code",
   "execution_count": null,
   "metadata": {},
   "outputs": [],
   "source": []
  }
 ],
 "metadata": {
  "kernelspec": {
   "display_name": "Python 3",
   "language": "python",
   "name": "python3"
  },
  "language_info": {
   "codemirror_mode": {
    "name": "ipython",
    "version": 3
   },
   "file_extension": ".py",
   "mimetype": "text/x-python",
   "name": "python",
   "nbconvert_exporter": "python",
   "pygments_lexer": "ipython3",
   "version": "3.7.6"
  }
 },
 "nbformat": 4,
 "nbformat_minor": 4
}
